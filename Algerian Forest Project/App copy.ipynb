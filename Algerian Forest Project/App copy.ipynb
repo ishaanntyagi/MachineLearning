{
 "cells": [
  {
   "cell_type": "code",
   "execution_count": 6,
   "id": "8c1143b9",
   "metadata": {},
   "outputs": [],
   "source": [
    "import numpy as np \n",
    "import pandas as pd \n",
    "import matplotlib.pyplot as plt\n",
    "import seaborn as sns\n"
   ]
  },
  {
   "cell_type": "code",
   "execution_count": 7,
   "id": "8f9e1d69",
   "metadata": {},
   "outputs": [],
   "source": [
    "df = pd.read_csv(r\"C:\\Users\\ishaa\\OneDrive\\Desktop\\TheMchineLearningFolder\\Algerian Forest Project\\Algerian_forest_fires_dataset_UPDATE.csv\")"
   ]
  },
  {
   "cell_type": "code",
   "execution_count": 8,
   "id": "9c754387",
   "metadata": {},
   "outputs": [
    {
     "name": "stdout",
     "output_type": "stream",
     "text": [
      "Bejaia Region Dataset     2\n",
      "dtype: int64\n",
      "The percentage of the Null Values are Bejaia Region Dataset     0.809717\n",
      "dtype: float64\n"
     ]
    }
   ],
   "source": [
    "null_cols = df.isnull().sum()\n",
    "print(null_cols)\n",
    "print(f\"The percentage of the Null Values are {df.isnull().mean()*100}\")"
   ]
  },
  {
   "cell_type": "code",
   "execution_count": 10,
   "id": "57560d66",
   "metadata": {},
   "outputs": [
    {
     "name": "stdout",
     "output_type": "stream",
     "text": [
      "                                                                  Bejaia Region Dataset \n",
      "day month year Temperature  RH  Ws Rain  FFMC DMC DC  ISI BUI FWI              Classes  \n",
      "01  06    2012 29          57  18  0     65.7 3.4 7.6 1.3 3.4 0.5            not fire   \n",
      "02  06    2012 29          61  13  1.3   64.4 4.1 7.6 1   3.9 0.4            not fire   \n",
      "03  06    2012 26          82  22  13.1  47.1 2.5 7.1 0.3 2.7 0.1            not fire   \n",
      "04  06    2012 25          89  13  2.5   28.6 1.3 6.9 0   1.7 0              not fire   \n",
      "<class 'pandas.core.frame.DataFrame'>\n",
      "MultiIndex: 247 entries, ('day', 'month', 'year', 'Temperature', ' RH', ' Ws', 'Rain ', 'FFMC', 'DMC', 'DC', 'ISI', 'BUI', 'FWI') to ('30', '09', '2012', '24', '64', '15', '0.2', '67.3', '3.8', '16.5', '1.2', '4.8', '0.5')\n",
      "Data columns (total 1 columns):\n",
      " #   Column                  Non-Null Count  Dtype \n",
      "---  ------                  --------------  ----- \n",
      " 0   Bejaia Region Dataset   245 non-null    object\n",
      "dtypes: object(1)\n",
      "memory usage: 49.3+ KB\n",
      "None\n"
     ]
    }
   ],
   "source": [
    "print(df.head())\n",
    "print(df.info())\n"
   ]
  },
  {
   "cell_type": "code",
   "execution_count": 12,
   "id": "aad548fe",
   "metadata": {},
   "outputs": [
    {
     "name": "stdout",
     "output_type": "stream",
     "text": [
      "day  month  year  Temperature   RH   Ws  Rain   FFMC  DMC  DC    ISI  BUI   FWI    False\n",
      "01   06     2012  29           57   18   0      65.7  3.4  7.6   1.3  3.4   0.5    False\n",
      "02   06     2012  29           61   13   1.3    64.4  4.1  7.6   1    3.9   0.4    False\n",
      "03   06     2012  26           82   22   13.1   47.1  2.5  7.1   0.3  2.7   0.1    False\n",
      "04   06     2012  25           89   13   2.5    28.6  1.3  6.9   0    1.7   0      False\n",
      "                                                                                   ...  \n",
      "26   09     2012  30           65   14   0      85.4  16   44.5  4.5  16.9  6.5    False\n",
      "27   09     2012  28           87   15   4.4    41.1  6.5  8     0.1  6.2   0      False\n",
      "28   09     2012  27           87   29   0.5    45.9  3.5  7.9   0.4  3.4   0.2    False\n",
      "29   09     2012  24           54   18   0.1    79.7  4.3  15.2  1.7  5.1   0.7    False\n",
      "30   09     2012  24           64   15   0.2    67.3  3.8  16.5  1.2  4.8   0.5    False\n",
      "Length: 247, dtype: bool\n"
     ]
    }
   ],
   "source": [
    "print(df.isnull().any(axis=1))"
   ]
  },
  {
   "cell_type": "code",
   "execution_count": null,
   "id": "ba563137",
   "metadata": {},
   "outputs": [],
   "source": []
  }
 ],
 "metadata": {
  "kernelspec": {
   "display_name": "base",
   "language": "python",
   "name": "python3"
  },
  "language_info": {
   "codemirror_mode": {
    "name": "ipython",
    "version": 3
   },
   "file_extension": ".py",
   "mimetype": "text/x-python",
   "name": "python",
   "nbconvert_exporter": "python",
   "pygments_lexer": "ipython3",
   "version": "3.12.3"
  }
 },
 "nbformat": 4,
 "nbformat_minor": 5
}
