{
 "cells": [
  {
   "cell_type": "code",
   "execution_count": 1,
   "id": "c4900c94",
   "metadata": {},
   "outputs": [
    {
     "name": "stdout",
     "output_type": "stream",
     "text": [
      "   Gender\n",
      "0    Male\n",
      "1  Female\n",
      "2  Female\n",
      "3    Male\n",
      "4  Female\n"
     ]
    }
   ],
   "source": [
    "import pandas as pd\n",
    "\n",
    "# Sample data\n",
    "df = pd.DataFrame({\n",
    "    'Gender': ['Male', 'Female', 'Female', 'Male', 'Female']\n",
    "})\n",
    "print(df)"
   ]
  },
  {
   "cell_type": "code",
   "execution_count": 2,
   "id": "9dbbd257",
   "metadata": {},
   "outputs": [],
   "source": [
    "import pandas as pd \n",
    "from sklearn.preprocessing import LabelEncoder\n",
    "\n",
    "lbl = LabelEncoder()\n"
   ]
  },
  {
   "cell_type": "code",
   "execution_count": null,
   "id": "47724e19",
   "metadata": {},
   "outputs": [
    {
     "name": "stdout",
     "output_type": "stream",
     "text": [
      "   Gender  gender_Encoded\n",
      "0    Male               1\n",
      "1  Female               0\n",
      "2  Female               0\n",
      "3    Male               1\n",
      "4  Female               0\n",
      "   Gender  gender_Encoded\n",
      "0       1               1\n",
      "1       0               0\n",
      "2       0               0\n",
      "3       1               1\n",
      "4       0               0\n"
     ]
    }
   ],
   "source": [
    "print(df)\n",
    "df['gender_Encoded'] = lbl.fit_transform(df['Gender'])\n",
    "df['Gender'] = df['gender_Encoded']\n",
    "print(df)\n"
   ]
  },
  {
   "cell_type": "code",
   "execution_count": 5,
   "id": "8ade0b92",
   "metadata": {},
   "outputs": [
    {
     "name": "stdout",
     "output_type": "stream",
     "text": [
      "   Color\n",
      "0    Red\n",
      "1   Blue\n",
      "2  Green\n",
      "3   Blue\n"
     ]
    }
   ],
   "source": [
    "import pandas as pd\n",
    "\n",
    "df = pd.DataFrame({\n",
    "    'Color': ['Red', 'Blue', 'Green', 'Blue']\n",
    "})\n",
    "print(df)"
   ]
  },
  {
   "cell_type": "code",
   "execution_count": null,
   "id": "4e94570d",
   "metadata": {},
   "outputs": [],
   "source": [
    "# import pandas as pd\n",
    "# from sklearn.preprocessing import OneHotEncoder\n",
    "\n",
    "# # Sample data\n",
    "# df = pd.DataFrame({'Color': ['Red', 'Blue', 'Green', 'Blue']})\n",
    "\n",
    "# # Initialize OneHotEncoder\n",
    "# ohe = OneHotEncoder(sparse=False)  # sparse=False returns a NumPy array\n",
    "\n",
    "# # Fit and transform the \"Color\" column\n",
    "# encoded_array = ohe.fit_transform(df[['Color']])\n",
    "\n",
    "# # Get feature names for columns\n",
    "# column_names = ohe.get_feature_names_out(['Color'])\n",
    "\n",
    "# # Convert to DataFrame for easy viewing\n",
    "# df_onehot = pd.DataFrame(encoded_array, columns=column_names)\n",
    "\n",
    "# # Combine with original DataFrame if desired\n",
    "# df_combined = pd.concat([df, df_onehot], axis=1)\n",
    "\n",
    "# print(df_combined)"
   ]
  },
  {
   "cell_type": "code",
   "execution_count": 9,
   "id": "de9bbad4",
   "metadata": {},
   "outputs": [],
   "source": [
    "from sklearn.preprocessing import OneHotEncoder\n",
    "ohe = OneHotEncoder(sparse_output=False)\n"
   ]
  },
  {
   "cell_type": "code",
   "execution_count": 15,
   "id": "290935c7",
   "metadata": {},
   "outputs": [
    {
     "name": "stdout",
     "output_type": "stream",
     "text": [
      "[[0. 0. 1.]\n",
      " [1. 0. 0.]\n",
      " [0. 1. 0.]\n",
      " [1. 0. 0.]]\n"
     ]
    }
   ],
   "source": [
    "encoded_array = ohe.fit_transform(df[['Color']])\n",
    "print(encoded_array)"
   ]
  },
  {
   "cell_type": "code",
   "execution_count": 17,
   "id": "d4d061b5",
   "metadata": {},
   "outputs": [
    {
     "name": "stdout",
     "output_type": "stream",
     "text": [
      "['Color_Blue' 'Color_Green' 'Color_Red']\n"
     ]
    }
   ],
   "source": [
    "column_names = ohe.get_feature_names_out(['Color'])\n",
    "print(column_names)"
   ]
  },
  {
   "cell_type": "code",
   "execution_count": 18,
   "id": "b28eeeb8",
   "metadata": {},
   "outputs": [
    {
     "name": "stdout",
     "output_type": "stream",
     "text": [
      "   Color_Blue  Color_Green  Color_Red\n",
      "0         0.0          0.0        1.0\n",
      "1         1.0          0.0        0.0\n",
      "2         0.0          1.0        0.0\n",
      "3         1.0          0.0        0.0\n"
     ]
    }
   ],
   "source": [
    "df_onehot = pd.DataFrame(encoded_array, columns=column_names)\n",
    "print(df_onehot)"
   ]
  },
  {
   "cell_type": "code",
   "execution_count": 19,
   "id": "25492585",
   "metadata": {},
   "outputs": [
    {
     "name": "stdout",
     "output_type": "stream",
     "text": [
      "   Color  Color_Blue  Color_Green  Color_Red\n",
      "0    Red         0.0          0.0        1.0\n",
      "1   Blue         1.0          0.0        0.0\n",
      "2  Green         0.0          1.0        0.0\n",
      "3   Blue         1.0          0.0        0.0\n"
     ]
    }
   ],
   "source": [
    "df_combined = pd.concat([df, df_onehot], axis=1)\n",
    "print(df_combined)"
   ]
  }
 ],
 "metadata": {
  "kernelspec": {
   "display_name": "base",
   "language": "python",
   "name": "python3"
  },
  "language_info": {
   "codemirror_mode": {
    "name": "ipython",
    "version": 3
   },
   "file_extension": ".py",
   "mimetype": "text/x-python",
   "name": "python",
   "nbconvert_exporter": "python",
   "pygments_lexer": "ipython3",
   "version": "3.12.3"
  }
 },
 "nbformat": 4,
 "nbformat_minor": 5
}
