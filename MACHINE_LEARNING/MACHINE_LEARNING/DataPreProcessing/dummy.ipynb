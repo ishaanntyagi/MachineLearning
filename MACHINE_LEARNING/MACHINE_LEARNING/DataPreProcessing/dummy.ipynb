{
 "cells": [
  {
   "cell_type": "code",
   "execution_count": 1,
   "id": "895bd336",
   "metadata": {},
   "outputs": [],
   "source": [
    "import pandas as pd \n",
    "import numpy as np \n"
   ]
  },
  {
   "cell_type": "code",
   "execution_count": null,
   "id": "6f9bbcca",
   "metadata": {},
   "outputs": [
    {
     "name": "stdout",
     "output_type": "stream",
     "text": [
      "    Color\n",
      "0     Red\n",
      "1    Blue\n",
      "2   Green\n",
      "3    Blue\n",
      "4  Yellow\n"
     ]
    }
   ],
   "source": [
    "df = pd.read_csv(r\"C:\\Users\\ishaa\\OneDrive\\Desktop\\kaggleDATA\\sample_colors_Version2.csv\")\n",
    "print(df.head())\n"
   ]
  },
  {
   "cell_type": "code",
   "execution_count": null,
   "id": "17e864e9",
   "metadata": {},
   "outputs": [
    {
     "name": "stdout",
     "output_type": "stream",
     "text": [
      "    Color_Blue  Color_Color  Color_Green  Color_Red  Color_Yellow\n",
      "0            0            0            0          1             0\n",
      "1            1            0            0          0             0\n",
      "2            0            0            1          0             0\n",
      "3            1            0            0          0             0\n",
      "4            0            0            0          0             1\n",
      "5            0            0            0          1             0\n",
      "6            0            0            1          0             0\n",
      "7            0            0            0          1             0\n",
      "8            0            1            0          0             0\n",
      "9            0            0            0          1             0\n",
      "10           1            0            0          0             0\n",
      "11           0            0            1          0             0\n",
      "12           1            0            0          0             0\n",
      "13           0            0            0          0             1\n",
      "14           0            0            0          1             0\n",
      "15           0            0            1          0             0\n",
      "16           0            0            0          1             0\n",
      "17           0            1            0          0             0\n",
      "18           0            0            0          1             0\n",
      "19           1            0            0          0             0\n",
      "20           0            0            1          0             0\n",
      "21           1            0            0          0             0\n",
      "22           0            0            0          0             1\n",
      "23           0            0            0          1             0\n",
      "24           0            0            1          0             0\n",
      "25           0            0            0          1             0\n",
      "26           0            1            0          0             0\n",
      "27           0            0            0          1             0\n",
      "28           1            0            0          0             0\n",
      "29           0            0            1          0             0\n",
      "30           1            0            0          0             0\n",
      "31           0            0            0          0             1\n",
      "32           0            0            0          1             0\n",
      "33           0            0            1          0             0\n",
      "34           0            0            0          1             0\n",
      "35           0            1            0          0             0\n",
      "36           0            0            0          1             0\n",
      "37           1            0            0          0             0\n",
      "38           0            0            1          0             0\n",
      "39           1            0            0          0             0\n",
      "40           0            0            0          0             1\n",
      "41           0            0            0          1             0\n",
      "42           0            0            1          0             0\n",
      "43           0            0            0          1             0\n"
     ]
    }
   ],
   "source": [
    "#using dummies to encode the data now \n",
    "encoded = pd.get_dummies(df, columns=['Color'])\n",
    "encoded = encoded.astype(int)\n",
    "#astype was used to change the datatype of the \n",
    "print(encoded)"
   ]
  }
 ],
 "metadata": {
  "kernelspec": {
   "display_name": "base",
   "language": "python",
   "name": "python3"
  },
  "language_info": {
   "codemirror_mode": {
    "name": "ipython",
    "version": 3
   },
   "file_extension": ".py",
   "mimetype": "text/x-python",
   "name": "python",
   "nbconvert_exporter": "python",
   "pygments_lexer": "ipython3",
   "version": "3.12.3"
  }
 },
 "nbformat": 4,
 "nbformat_minor": 5
}
